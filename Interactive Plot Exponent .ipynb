{
 "cells": [
  {
   "cell_type": "code",
   "execution_count": 2,
   "id": "131f63d3",
   "metadata": {},
   "outputs": [],
   "source": [
    "import matplotlib.pyplot as plt \n",
    "import numpy as np\n",
    "from ipywidgets import interactive"
   ]
  },
  {
   "cell_type": "code",
   "execution_count": 5,
   "id": "0990b98f",
   "metadata": {},
   "outputs": [
    {
     "data": {
      "application/vnd.jupyter.widget-view+json": {
       "model_id": "1ada212e3a174d5aacb2a700183d63d9",
       "version_major": 2,
       "version_minor": 0
      },
      "text/plain": [
       "interactive(children=(IntSlider(value=25, description='timestep', max=50, min=1), Output()), _dom_classes=('wi…"
      ]
     },
     "metadata": {},
     "output_type": "display_data"
    },
    {
     "data": {
      "text/plain": [
       "<Figure size 936x576 with 0 Axes>"
      ]
     },
     "metadata": {},
     "output_type": "display_data"
    }
   ],
   "source": [
    "plt.figure(figsize=(13,8))\n",
    "plt.style.use('bmh')\n",
    "\n",
    "t = np.arange(0,5,0.1)\n",
    "\n",
    "def plotter(timestep):\n",
    "    y = 3 - np.exp(t[:timestep]/2)\n",
    "    plt.plot(t[:timestep],y)\n",
    "    plt.title(\"Exponential Decay\", fontsize=15, fontweight='bold')\n",
    "    plt.xlabel(\"Time\", fontsize=15)\n",
    "    plt.ylabel('Exponential function', fontsize=15)\n",
    "    plt.ylim(-10,3)\n",
    "    plt.xlim(0,6)\n",
    "    plt.show()\n",
    "    \n",
    "iplot = interactive(plotter, timestep=(1,len(t)))\n",
    "\n",
    "iplot"
   ]
  }
 ],
 "metadata": {
  "kernelspec": {
   "display_name": "Python 3",
   "language": "python",
   "name": "python3"
  },
  "language_info": {
   "codemirror_mode": {
    "name": "ipython",
    "version": 3
   },
   "file_extension": ".py",
   "mimetype": "text/x-python",
   "name": "python",
   "nbconvert_exporter": "python",
   "pygments_lexer": "ipython3",
   "version": "3.8.8"
  }
 },
 "nbformat": 4,
 "nbformat_minor": 5
}
