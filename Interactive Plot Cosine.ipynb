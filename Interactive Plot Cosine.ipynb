{
 "cells": [
  {
   "cell_type": "markdown",
   "id": "aa8f68f6",
   "metadata": {},
   "source": [
    "$$ f(x) = Asin(Bx) $$"
   ]
  },
  {
   "cell_type": "code",
   "execution_count": 31,
   "id": "baa12f1f",
   "metadata": {},
   "outputs": [],
   "source": [
    "import matplotlib.pyplot as plt\n",
    "import numpy as np\n",
    "from ipywidgets import interactive"
   ]
  },
  {
   "cell_type": "code",
   "execution_count": 32,
   "id": "fcbcf0fe",
   "metadata": {},
   "outputs": [
    {
     "data": {
      "application/vnd.jupyter.widget-view+json": {
       "model_id": "51f037633fcc49d890a221c0d4192c97",
       "version_major": 2,
       "version_minor": 0
      },
      "text/plain": [
       "interactive(children=(FloatSlider(value=0.0, description='A', max=3.0, min=-3.0), FloatSlider(value=3.0, descr…"
      ]
     },
     "metadata": {},
     "output_type": "display_data"
    },
    {
     "data": {
      "text/plain": [
       "<Figure size 720x504 with 0 Axes>"
      ]
     },
     "metadata": {},
     "output_type": "display_data"
    }
   ],
   "source": [
    "plt.figure(figsize=(10,7))\n",
    "plt.style.use('bmh')\n",
    "\n",
    "x = np.linspace(0, 2*np.pi, 100)\n",
    "\n",
    "def plotter(A,B):\n",
    "    y=A*np.sin(B*x)\n",
    "    plt.plot(x,y, color='green', lw=2)\n",
    "    #plt.grid()\n",
    "    plt.title(\"Cosine\", fontsize=15, fontweight='bold')\n",
    "    plt.xlabel(\"Time\", fontsize=15)\n",
    "    plt.ylabel('Cosine function', fontsize=15)\n",
    "    plt.ylim(-3,3)\n",
    "    plt.show()\n",
    "\n",
    "    \n",
    "iplot = interactive(plotter, A=(-3,3,0.1), B=(1,5,0.5))\n",
    "iplot"
   ]
  }
 ],
 "metadata": {
  "kernelspec": {
   "display_name": "Python 3",
   "language": "python",
   "name": "python3"
  },
  "language_info": {
   "codemirror_mode": {
    "name": "ipython",
    "version": 3
   },
   "file_extension": ".py",
   "mimetype": "text/x-python",
   "name": "python",
   "nbconvert_exporter": "python",
   "pygments_lexer": "ipython3",
   "version": "3.8.8"
  }
 },
 "nbformat": 4,
 "nbformat_minor": 5
}
