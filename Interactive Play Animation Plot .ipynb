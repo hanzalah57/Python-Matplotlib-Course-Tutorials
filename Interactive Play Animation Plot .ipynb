{
 "cells": [
  {
   "cell_type": "code",
   "execution_count": 2,
   "id": "d384a23d",
   "metadata": {},
   "outputs": [],
   "source": [
    "import matplotlib.pyplot as plt\n",
    "import numpy as np\n",
    "from ipywidgets import interactive,Play"
   ]
  },
  {
   "cell_type": "code",
   "execution_count": 3,
   "id": "5c4bac49",
   "metadata": {},
   "outputs": [
    {
     "data": {
      "application/vnd.jupyter.widget-view+json": {
       "model_id": "cfdea01f88914da6846307e6b0de784d",
       "version_major": 2,
       "version_minor": 0
      },
      "text/plain": [
       "interactive(children=(FloatSlider(value=0.0, description='A', max=3.0, min=-3.0), FloatSlider(value=3.0, descr…"
      ]
     },
     "metadata": {},
     "output_type": "display_data"
    },
    {
     "data": {
      "text/plain": [
       "<Figure size 720x504 with 0 Axes>"
      ]
     },
     "metadata": {},
     "output_type": "display_data"
    }
   ],
   "source": [
    "plt.figure(figsize=(10,7))\n",
    "plt.style.use('bmh')\n",
    "\n",
    "x = np.linspace(0, 2*np.pi, 100)\n",
    "\n",
    "def plotter(A,B,P):\n",
    "    y=A*np.cos(0.3*P + (B*x))\n",
    "    z=A*np.sin(0.3*P + (B*x))\n",
    "    plt.plot(x,y, color='green', lw=2, label='Cosine')\n",
    "    plt.plot(x,z, color='blue', lw=2, label='Sine')\n",
    "    #plt.grid()\n",
    "    plt.title(\"Animation Plot\", fontsize=15, fontweight='bold')\n",
    "    plt.xlabel(\"Time\", fontsize=15)\n",
    "    plt.ylabel('Amplitude', fontsize=15)\n",
    "    plt.legend()\n",
    "    plt.ylim(-3,3)\n",
    "    plt.show()\n",
    "\n",
    "    \n",
    "iplot = interactive(plotter, A=(-3,3,0.1), B=(1,5,0.5), P=Play(min=0, max=100))\n",
    "iplot"
   ]
  }
 ],
 "metadata": {
  "kernelspec": {
   "display_name": "Python 3",
   "language": "python",
   "name": "python3"
  },
  "language_info": {
   "codemirror_mode": {
    "name": "ipython",
    "version": 3
   },
   "file_extension": ".py",
   "mimetype": "text/x-python",
   "name": "python",
   "nbconvert_exporter": "python",
   "pygments_lexer": "ipython3",
   "version": "3.8.8"
  }
 },
 "nbformat": 4,
 "nbformat_minor": 5
}
