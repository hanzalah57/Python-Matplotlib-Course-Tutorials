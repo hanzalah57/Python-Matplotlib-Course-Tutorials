{
 "cells": [
  {
   "cell_type": "code",
   "execution_count": 2,
   "id": "99c59232",
   "metadata": {},
   "outputs": [],
   "source": [
    "import pandas as pd \n",
    "import matplotlib.pyplot as plt"
   ]
  },
  {
   "cell_type": "code",
   "execution_count": 4,
   "id": "c5bc6181",
   "metadata": {},
   "outputs": [
    {
     "data": {
      "text/html": [
       "<div>\n",
       "<style scoped>\n",
       "    .dataframe tbody tr th:only-of-type {\n",
       "        vertical-align: middle;\n",
       "    }\n",
       "\n",
       "    .dataframe tbody tr th {\n",
       "        vertical-align: top;\n",
       "    }\n",
       "\n",
       "    .dataframe thead th {\n",
       "        text-align: right;\n",
       "    }\n",
       "</style>\n",
       "<table border=\"1\" class=\"dataframe\">\n",
       "  <thead>\n",
       "    <tr style=\"text-align: right;\">\n",
       "      <th></th>\n",
       "      <th>Years</th>\n",
       "      <th>Pre_rainfall</th>\n",
       "      <th>Post_rainfall</th>\n",
       "    </tr>\n",
       "  </thead>\n",
       "  <tbody>\n",
       "    <tr>\n",
       "      <th>0</th>\n",
       "      <td>2010</td>\n",
       "      <td>90</td>\n",
       "      <td>110</td>\n",
       "    </tr>\n",
       "    <tr>\n",
       "      <th>1</th>\n",
       "      <td>2012</td>\n",
       "      <td>75</td>\n",
       "      <td>105</td>\n",
       "    </tr>\n",
       "    <tr>\n",
       "      <th>2</th>\n",
       "      <td>2014</td>\n",
       "      <td>65</td>\n",
       "      <td>90</td>\n",
       "    </tr>\n",
       "    <tr>\n",
       "      <th>3</th>\n",
       "      <td>2016</td>\n",
       "      <td>86</td>\n",
       "      <td>96</td>\n",
       "    </tr>\n",
       "    <tr>\n",
       "      <th>4</th>\n",
       "      <td>2018</td>\n",
       "      <td>93</td>\n",
       "      <td>97</td>\n",
       "    </tr>\n",
       "  </tbody>\n",
       "</table>\n",
       "</div>"
      ],
      "text/plain": [
       "   Years  Pre_rainfall  Post_rainfall\n",
       "0   2010            90            110\n",
       "1   2012            75            105\n",
       "2   2014            65             90\n",
       "3   2016            86             96\n",
       "4   2018            93             97"
      ]
     },
     "execution_count": 4,
     "metadata": {},
     "output_type": "execute_result"
    }
   ],
   "source": [
    "data = pd.DataFrame({\"Years\": [2010,2012,2014,2016,2018,2020],\n",
    "                    \"Pre_rainfall\": [90,75,65,86,93,79],\n",
    "                     \"Post_rainfall\": [110,105,90,96,97,71]})\n",
    "data.head(5)"
   ]
  },
  {
   "cell_type": "code",
   "execution_count": 5,
   "id": "868f5ed6",
   "metadata": {},
   "outputs": [
    {
     "data": {
      "text/html": [
       "<div>\n",
       "<style scoped>\n",
       "    .dataframe tbody tr th:only-of-type {\n",
       "        vertical-align: middle;\n",
       "    }\n",
       "\n",
       "    .dataframe tbody tr th {\n",
       "        vertical-align: top;\n",
       "    }\n",
       "\n",
       "    .dataframe thead th {\n",
       "        text-align: right;\n",
       "    }\n",
       "</style>\n",
       "<table border=\"1\" class=\"dataframe\">\n",
       "  <thead>\n",
       "    <tr style=\"text-align: right;\">\n",
       "      <th></th>\n",
       "      <th>Years</th>\n",
       "      <th>Pre_rainfall</th>\n",
       "      <th>Post_rainfall</th>\n",
       "    </tr>\n",
       "  </thead>\n",
       "  <tbody>\n",
       "    <tr>\n",
       "      <th>count</th>\n",
       "      <td>6.000000</td>\n",
       "      <td>6.000000</td>\n",
       "      <td>6.000000</td>\n",
       "    </tr>\n",
       "    <tr>\n",
       "      <th>mean</th>\n",
       "      <td>2015.000000</td>\n",
       "      <td>81.333333</td>\n",
       "      <td>94.833333</td>\n",
       "    </tr>\n",
       "    <tr>\n",
       "      <th>std</th>\n",
       "      <td>3.741657</td>\n",
       "      <td>10.443499</td>\n",
       "      <td>13.644291</td>\n",
       "    </tr>\n",
       "    <tr>\n",
       "      <th>min</th>\n",
       "      <td>2010.000000</td>\n",
       "      <td>65.000000</td>\n",
       "      <td>71.000000</td>\n",
       "    </tr>\n",
       "    <tr>\n",
       "      <th>25%</th>\n",
       "      <td>2012.500000</td>\n",
       "      <td>76.000000</td>\n",
       "      <td>91.500000</td>\n",
       "    </tr>\n",
       "    <tr>\n",
       "      <th>50%</th>\n",
       "      <td>2015.000000</td>\n",
       "      <td>82.500000</td>\n",
       "      <td>96.500000</td>\n",
       "    </tr>\n",
       "    <tr>\n",
       "      <th>75%</th>\n",
       "      <td>2017.500000</td>\n",
       "      <td>89.000000</td>\n",
       "      <td>103.000000</td>\n",
       "    </tr>\n",
       "    <tr>\n",
       "      <th>max</th>\n",
       "      <td>2020.000000</td>\n",
       "      <td>93.000000</td>\n",
       "      <td>110.000000</td>\n",
       "    </tr>\n",
       "  </tbody>\n",
       "</table>\n",
       "</div>"
      ],
      "text/plain": [
       "             Years  Pre_rainfall  Post_rainfall\n",
       "count     6.000000      6.000000       6.000000\n",
       "mean   2015.000000     81.333333      94.833333\n",
       "std       3.741657     10.443499      13.644291\n",
       "min    2010.000000     65.000000      71.000000\n",
       "25%    2012.500000     76.000000      91.500000\n",
       "50%    2015.000000     82.500000      96.500000\n",
       "75%    2017.500000     89.000000     103.000000\n",
       "max    2020.000000     93.000000     110.000000"
      ]
     },
     "execution_count": 5,
     "metadata": {},
     "output_type": "execute_result"
    }
   ],
   "source": [
    "data.describe()"
   ]
  },
  {
   "cell_type": "code",
   "execution_count": 36,
   "id": "6ffa6cf7",
   "metadata": {},
   "outputs": [
    {
     "data": {
      "image/png": "[encoded data removed]",
      "text/plain": [
       "<Figure size 720x576 with 2 Axes>"
      ]
     },
     "metadata": {},
     "output_type": "display_data"
    }
   ],
   "source": [
    "plt.style.use(\"bmh\")\n",
    "\n",
    "fig, ax = plt.subplots(nrows=1, ncols=2, figsize=(10,8))\n",
    "\n",
    "#Defining axes locations \n",
    "ax1 = ax[0]\n",
    "ax2 = ax[1]\n",
    "\n",
    "#First plot\n",
    "ax1.bar('Years', 'Pre_rainfall', color='blue', data=data)\n",
    "ax1.set_ylim(40,120)\n",
    "ax1.set_xlabel(\"Years\", fontsize=14)\n",
    "ax1.set_ylabel(\"Pre-Rainfall-mm\", fontsize=14)\n",
    "ax1.set_title(\"Pre-Rainfall-mm\", fontsize=14, fontweight='bold')\n",
    "ax1.legend(loc='upper right', labels=['Pre-Rainfall'])\n",
    "\n",
    "#Second plot\n",
    "ax2.bar('Years', 'Post_rainfall', color='green', data=data)\n",
    "ax2.set_ylim(40,120)\n",
    "ax2.set_xlabel(\"Years\", fontsize=14)\n",
    "ax2.set_ylabel(\"Post-Rainfall-mm\", fontsize=14)\n",
    "ax2.set_title(\"Post-Rainfall-mm\", fontsize=14, fontweight='bold')\n",
    "ax2.legend(loc='upper right', labels=['Post-Rainfall'])\n",
    "\n",
    "plt.tight_layout()\n",
    "plt.show()\n"
   ]
  }
 ],
 "metadata": {
  "kernelspec": {
   "display_name": "Python 3",
   "language": "python",
   "name": "python3"
  },
  "language_info": {
   "codemirror_mode": {
    "name": "ipython",
    "version": 3
   },
   "file_extension": ".py",
   "mimetype": "text/x-python",
   "name": "python",
   "nbconvert_exporter": "python",
   "pygments_lexer": "ipython3",
   "version": "3.8.8"
  }
 },
 "nbformat": 4,
 "nbformat_minor": 5
}
